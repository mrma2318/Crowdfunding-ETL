{
 "cells": [
  {
   "cell_type": "code",
   "execution_count": null,
   "id": "9c28bc44",
   "metadata": {},
   "outputs": [],
   "source": [
    "# Challenge Bonus queries.\n",
    "# 1. (2.5 pts)\n",
    "# Retrieve all the number of backer_counts in descending order for each `cf_id` for the \"live\" campaigns. \n",
    "SELECT cf_id, \n",
    "    backers_count\n",
    "FROM campaign\n",
    "WHERE (outcome = 'live')\n",
    "ORDER BY backers_count DESC;"
   ]
  },
  {
   "cell_type": "code",
   "execution_count": null,
   "id": "7d4bacec",
   "metadata": {},
   "outputs": [],
   "source": [
    "# 2. (2.5 pts)\n",
    "# Using the \"backers\" table confirm the results in the first query.\n",
    "SELECT COUNT(cf_id), cf_id\n",
    "FROM backers\n",
    "GROUP BY cf_id\n",
    "ORDER BY COUNT (cf_id) DESC;"
   ]
  },
  {
   "cell_type": "code",
   "execution_count": null,
   "id": "0baa6fac",
   "metadata": {},
   "outputs": [],
   "source": [
    "# 3. (5 pts)\n",
    "# Create a table that has the first and last name, and email address of each contact.\n",
    "# and the amount left to reach the goal for all \"live\" projects in descending order. \n",
    "SELECT contacts.first_name,\n",
    "\tcontacts.last_name,\n",
    "\tcontacts.email,\n",
    "\t(campaign.goal - campaign.pledged) AS amount_left\n",
    "INTO remain_amount\n",
    "FROM campaign\n",
    "INNER JOIN contacts\n",
    "ON (campaign.contact_id = contacts.contact_id)\n",
    "WHERE (outcome = 'live')\n",
    "ORDER BY (campaign.goal - campaign.pledged) DESC;\n",
    "\n",
    "\n",
    "\n",
    "# Check the table\n",
    "\n",
    "SELECT * FROM remain_amount"
   ]
  },
  {
   "cell_type": "code",
   "execution_count": null,
   "id": "df948aaa",
   "metadata": {},
   "outputs": [],
   "source": [
    "# 4. (5 pts)\n",
    "# Create a table, \"email_backers_remaining_goal_amount\" that contains the email address of each backer in descending order, \n",
    "# and has the first and last name of each backer, the cf_id, company name, description, \n",
    "# end date of the campaign, and the remaining amount of the campaign goal as \"Left of Goal\". \n",
    "SELECT contacts.first_name,\n",
    "\tcontacts.last_name,\n",
    "\tcontacts.email,\n",
    "\tcampaign.company_name,\n",
    "\tcampaign.cf_id,\n",
    "\tcampaign.description,\n",
    "\t(campaign.goal - campaign.pledged) AS left_of_goal\n",
    "INTO email_backers_remaining_goal_amount\n",
    "FROM campaign\n",
    "INNER JOIN contacts\n",
    "ON (campaign.contact_id = contacts.contact_id)\n",
    "WHERE (outcome = 'live')\n",
    "ORDER BY (campaign.goal - campaign.pledged) DESC;\n",
    "\n",
    "\n",
    "# Check the table\n",
    "SELECT * FROM email_backers_remaining_goal_amount\n",
    "\n"
   ]
  }
 ],
 "metadata": {
  "kernelspec": {
   "display_name": "PythonData",
   "language": "python",
   "name": "pythondata"
  },
  "language_info": {
   "codemirror_mode": {
    "name": "ipython",
    "version": 3
   },
   "file_extension": ".py",
   "mimetype": "text/x-python",
   "name": "python",
   "nbconvert_exporter": "python",
   "pygments_lexer": "ipython3",
   "version": "3.7.13"
  }
 },
 "nbformat": 4,
 "nbformat_minor": 5
}
